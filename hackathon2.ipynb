{
  "cells": [
    {
      "cell_type": "markdown",
      "metadata": {
        "id": "view-in-github",
        "colab_type": "text"
      },
      "source": [
        "<a href=\"https://colab.research.google.com/github/vanimalhotra22/vaniai/blob/main/hackathon2.ipynb\" target=\"_parent\"><img src=\"https://colab.research.google.com/assets/colab-badge.svg\" alt=\"Open In Colab\"/></a>"
      ]
    },
    {
      "cell_type": "code",
      "source": [
        "# 1. Load data\n",
        "train = pd.read_csv(\"/content/Train_Data.csv\")\n",
        "test = pd.read_csv(\"/content/Test_Data.csv\")\n",
        "\n",
        "# 🔥 Drop rows where target is missing\n",
        "train = train.dropna(subset=['age_group'])\n",
        "\n",
        "# 2. Separate features and label\n",
        "y = train['age_group']\n",
        "X = train.drop(columns=['age_group'])\n",
        "\n",
        "# 3. Combine for preprocessing\n",
        "combined = pd.concat([X, test], axis=0)\n",
        "\n",
        "# 4. Force numeric, coerce errors to NaN\n",
        "combined = combined.apply(pd.to_numeric, errors='coerce')\n",
        "\n",
        "# 5. Drop columns with all NaNs (optional safety step)\n",
        "combined = combined.dropna(axis=1, how='all')\n",
        "\n",
        "# 6. Impute missing values\n",
        "from sklearn.impute import SimpleImputer\n",
        "imputer = SimpleImputer(strategy='mean')\n",
        "combined_imputed = pd.DataFrame(imputer.fit_transform(combined), columns=combined.columns)\n",
        "\n",
        "# 7. Split again\n",
        "X_clean = combined_imputed.iloc[:len(X)]\n",
        "test_clean = combined_imputed.iloc[len(X):]\n",
        "\n",
        "# 8. Train/test split\n",
        "from sklearn.model_selection import train_test_split\n",
        "X_train, X_val, y_train, y_val = train_test_split(X_clean, y, test_size=0.2, random_state=42)\n",
        "\n",
        "# 9. Model training\n",
        "from sklearn.ensemble import RandomForestClassifier\n",
        "model = RandomForestClassifier(random_state=42)\n",
        "model.fit(X_train, y_train)\n",
        "\n",
        "# 10. Validation\n",
        "from sklearn.metrics import classification_report\n",
        "val_preds = model.predict(X_val)\n",
        "print(classification_report(y_val, val_preds))\n",
        "\n",
        "# 11. Predict test\n",
        "test_preds = model.predict(test_clean)\n",
        "\n",
        "# 12. Submission\n",
        "submission = pd.DataFrame({\n",
        "    \"id\": test.index + 1,\n",
        "    \"age_group\": test_preds\n",
        "})\n",
        "submission.to_csv(\"submission.csv\", index=False)\n"
      ],
      "metadata": {
        "colab": {
          "base_uri": "https://localhost:8080/"
        },
        "id": "ANNsWlFcxklW",
        "outputId": "0b93bd80-5f93-4e6e-cacd-c2199ee21d84"
      },
      "execution_count": 8,
      "outputs": [
        {
          "output_type": "stream",
          "name": "stdout",
          "text": [
            "              precision    recall  f1-score   support\n",
            "\n",
            "       Adult       1.00      1.00      1.00       340\n",
            "      Senior       1.00      1.00      1.00        51\n",
            "\n",
            "    accuracy                           1.00       391\n",
            "   macro avg       1.00      1.00      1.00       391\n",
            "weighted avg       1.00      1.00      1.00       391\n",
            "\n"
          ]
        }
      ]
    },
    {
      "cell_type": "code",
      "source": [
        "submission = pd.DataFrame({\n",
        "    \"id\": test.index + 1,\n",
        "    \"age_group\": test_preds\n",
        "})\n",
        "submission.to_csv(\"submission.csv\", index=False)\n"
      ],
      "metadata": {
        "id": "8Yvsk3zHx5AC"
      },
      "execution_count": 9,
      "outputs": []
    },
    {
      "cell_type": "code",
      "source": [
        "from sklearn.metrics import classification_report\n",
        "\n",
        "# Predict on validation set\n",
        "val_preds = model.predict(X_val)\n",
        "\n",
        "# Display classification report\n",
        "print(\"Classification Report on Validation Set:\\n\")\n",
        "print(classification_report(y_val, val_preds))\n"
      ],
      "metadata": {
        "colab": {
          "base_uri": "https://localhost:8080/"
        },
        "id": "PfuO51dnyJKL",
        "outputId": "8a66b635-3db2-4110-db49-e55a7dce76c9"
      },
      "execution_count": 10,
      "outputs": [
        {
          "output_type": "stream",
          "name": "stdout",
          "text": [
            "Classification Report on Validation Set:\n",
            "\n",
            "              precision    recall  f1-score   support\n",
            "\n",
            "       Adult       1.00      1.00      1.00       340\n",
            "      Senior       1.00      1.00      1.00        51\n",
            "\n",
            "    accuracy                           1.00       391\n",
            "   macro avg       1.00      1.00      1.00       391\n",
            "weighted avg       1.00      1.00      1.00       391\n",
            "\n"
          ]
        }
      ]
    },
    {
      "cell_type": "code",
      "source": [
        "test_df = pd.read_csv(\"Test_Data.csv\")  # Adjust if you're reading it with a different path\n",
        "test_preds = model.predict(test_df)\n",
        "\n"
      ],
      "metadata": {
        "id": "AX6hLHCvyxXQ"
      },
      "execution_count": 13,
      "outputs": []
    },
    {
      "cell_type": "code",
      "source": [
        "# Fill missing values (like you did for train)\n",
        "test = test.fillna(train.median(numeric_only=True))\n",
        "\n",
        "# If categorical columns exist, encode them exactly like training\n"
      ],
      "metadata": {
        "id": "tIYuKirmyzdU"
      },
      "execution_count": 14,
      "outputs": []
    },
    {
      "cell_type": "code",
      "source": [
        "# Assuming you loaded test as `test` and handled preprocessing\n",
        "test_preds = model.predict(test)\n",
        "\n",
        "submission = pd.DataFrame({\n",
        "    \"id\": test.index + 1,\n",
        "    \"age_group\": test_preds\n",
        "})\n",
        "\n",
        "submission.to_csv(\"submission.csv\", index=False)\n"
      ],
      "metadata": {
        "id": "7AwJuSxszRto"
      },
      "execution_count": 15,
      "outputs": []
    },
    {
      "cell_type": "code",
      "source": [
        "# Ensure predictions are mapped correctly\n",
        "test_preds = pd.Series(test_preds)  # in case it's a NumPy array\n",
        "test_preds = test_preds.map({'Adult': 0, 'Senior': 1})\n",
        "\n",
        "# Final submission\n",
        "submission = pd.DataFrame({\n",
        "    \"id\": test.index + 1,\n",
        "    \"age_group\": test_preds.astype(int)\n",
        "})\n",
        "submission.to_csv(\"submission.csv\", index=False)\n"
      ],
      "metadata": {
        "id": "QegHE2AS0ezT"
      },
      "execution_count": 17,
      "outputs": []
    }
  ],
  "metadata": {
    "colab": {
      "provenance": [],
      "authorship_tag": "ABX9TyO04Ndu6terLYY/fL1Bw29l",
      "include_colab_link": true
    },
    "kernelspec": {
      "display_name": "Python 3",
      "name": "python3"
    },
    "language_info": {
      "name": "python"
    }
  },
  "nbformat": 4,
  "nbformat_minor": 0
}